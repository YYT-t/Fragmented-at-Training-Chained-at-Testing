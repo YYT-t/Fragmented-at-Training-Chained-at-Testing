{
 "cells": [
  {
   "cell_type": "markdown",
   "metadata": {},
   "source": [
    "## 0. Get Environment Ready"
   ]
  },
  {
   "cell_type": "code",
   "execution_count": 1,
   "metadata": {},
   "outputs": [
    {
     "name": "stdout",
     "output_type": "stream",
     "text": [
      "Defaulting to user installation because normal site-packages is not writeable\n",
      "Looking in indexes: https://bytedpypi.byted.org/simple/\n",
      "Requirement already satisfied: torch==2.5.1 in /usr/local/lib/python3.11/dist-packages (from -r requirements.txt (line 1)) (2.5.1)\n",
      "Requirement already satisfied: datasets in /home/tiger/.local/lib/python3.11/site-packages (from -r requirements.txt (line 2)) (3.2.0)\n",
      "Requirement already satisfied: transformers in /home/tiger/.local/lib/python3.11/site-packages (from -r requirements.txt (line 3)) (4.48.3)\n",
      "Requirement already satisfied: accelerate in /home/tiger/.local/lib/python3.11/site-packages (from -r requirements.txt (line 4)) (1.3.0)\n",
      "Requirement already satisfied: seaborn in /home/tiger/.local/lib/python3.11/site-packages (from -r requirements.txt (line 5)) (0.13.2)\n",
      "Requirement already satisfied: IPython in /home/tiger/.local/lib/python3.11/site-packages (from -r requirements.txt (line 6)) (8.32.0)\n",
      "Requirement already satisfied: filelock in /usr/local/lib/python3.11/dist-packages (from torch==2.5.1->-r requirements.txt (line 1)) (3.16.1)\n",
      "Requirement already satisfied: fsspec in /home/tiger/.local/lib/python3.11/site-packages (from torch==2.5.1->-r requirements.txt (line 1)) (2024.9.0)\n",
      "Requirement already satisfied: jinja2 in /usr/local/lib/python3.11/dist-packages (from torch==2.5.1->-r requirements.txt (line 1)) (3.1.4)\n",
      "Requirement already satisfied: networkx in /usr/local/lib/python3.11/dist-packages (from torch==2.5.1->-r requirements.txt (line 1)) (3.4.2)\n",
      "Requirement already satisfied: typing-extensions>=4.8.0 in /usr/local/lib/python3.11/dist-packages (from torch==2.5.1->-r requirements.txt (line 1)) (4.12.2)\n",
      "Requirement already satisfied: triton==3.1.0 in /usr/local/lib/python3.11/dist-packages (from torch==2.5.1->-r requirements.txt (line 1)) (3.1.0)\n",
      "Requirement already satisfied: sympy==1.13.1 in /usr/local/lib/python3.11/dist-packages (from torch==2.5.1->-r requirements.txt (line 1)) (1.13.1)\n",
      "Requirement already satisfied: mpmath<1.4,>=1.1.0 in /usr/local/lib/python3.11/dist-packages (from sympy==1.13.1->torch==2.5.1->-r requirements.txt (line 1)) (1.3.0)\n",
      "Requirement already satisfied: numpy>=1.17 in /usr/local/lib/python3.11/dist-packages (from datasets->-r requirements.txt (line 2)) (1.26.4)\n",
      "Requirement already satisfied: pyarrow>=15.0.0 in /usr/local/lib/python3.11/dist-packages (from datasets->-r requirements.txt (line 2)) (18.0.0)\n",
      "Requirement already satisfied: dill<0.3.9,>=0.3.0 in /home/tiger/.local/lib/python3.11/site-packages (from datasets->-r requirements.txt (line 2)) (0.3.8)\n",
      "Requirement already satisfied: pandas in /home/tiger/.local/lib/python3.11/site-packages (from datasets->-r requirements.txt (line 2)) (2.2.3)\n",
      "Requirement already satisfied: requests>=2.32.2 in /usr/local/lib/python3.11/dist-packages (from datasets->-r requirements.txt (line 2)) (2.32.3)\n",
      "Requirement already satisfied: tqdm>=4.66.3 in /usr/local/lib/python3.11/dist-packages (from datasets->-r requirements.txt (line 2)) (4.67.0)\n",
      "Requirement already satisfied: xxhash in /home/tiger/.local/lib/python3.11/site-packages (from datasets->-r requirements.txt (line 2)) (3.5.0)\n",
      "Requirement already satisfied: multiprocess<0.70.17 in /home/tiger/.local/lib/python3.11/site-packages (from datasets->-r requirements.txt (line 2)) (0.70.16)\n",
      "Requirement already satisfied: aiohttp in /home/tiger/.local/lib/python3.11/site-packages (from datasets->-r requirements.txt (line 2)) (3.11.12)\n",
      "Requirement already satisfied: huggingface-hub>=0.23.0 in /home/tiger/.local/lib/python3.11/site-packages (from datasets->-r requirements.txt (line 2)) (0.28.1)\n",
      "Requirement already satisfied: packaging in /usr/local/lib/python3.11/dist-packages (from datasets->-r requirements.txt (line 2)) (24.1)\n",
      "Requirement already satisfied: pyyaml>=5.1 in /usr/local/lib/python3.11/dist-packages (from datasets->-r requirements.txt (line 2)) (6.0.2)\n",
      "Requirement already satisfied: regex!=2019.12.17 in /home/tiger/.local/lib/python3.11/site-packages (from transformers->-r requirements.txt (line 3)) (2024.11.6)\n",
      "Requirement already satisfied: tokenizers<0.22,>=0.21 in /home/tiger/.local/lib/python3.11/site-packages (from transformers->-r requirements.txt (line 3)) (0.21.0)\n",
      "Requirement already satisfied: safetensors>=0.4.1 in /home/tiger/.local/lib/python3.11/site-packages (from transformers->-r requirements.txt (line 3)) (0.5.2)\n",
      "Requirement already satisfied: psutil in /usr/local/lib/python3.11/dist-packages (from accelerate->-r requirements.txt (line 4)) (6.1.0)\n",
      "Requirement already satisfied: matplotlib!=3.6.1,>=3.4 in /home/tiger/.local/lib/python3.11/site-packages (from seaborn->-r requirements.txt (line 5)) (3.10.0)\n",
      "Requirement already satisfied: decorator in /home/tiger/.local/lib/python3.11/site-packages (from IPython->-r requirements.txt (line 6)) (5.1.1)\n",
      "Requirement already satisfied: jedi>=0.16 in /home/tiger/.local/lib/python3.11/site-packages (from IPython->-r requirements.txt (line 6)) (0.19.2)\n",
      "Requirement already satisfied: matplotlib-inline in /home/tiger/.local/lib/python3.11/site-packages (from IPython->-r requirements.txt (line 6)) (0.1.7)\n",
      "Requirement already satisfied: pexpect>4.3 in /home/tiger/.local/lib/python3.11/site-packages (from IPython->-r requirements.txt (line 6)) (4.8.0)\n",
      "Requirement already satisfied: prompt_toolkit<3.1.0,>=3.0.41 in /home/tiger/.local/lib/python3.11/site-packages (from IPython->-r requirements.txt (line 6)) (3.0.50)\n",
      "Requirement already satisfied: pygments>=2.4.0 in /usr/local/lib/python3.11/dist-packages (from IPython->-r requirements.txt (line 6)) (2.18.0)\n",
      "Requirement already satisfied: stack_data in /home/tiger/.local/lib/python3.11/site-packages (from IPython->-r requirements.txt (line 6)) (0.6.3)\n",
      "Requirement already satisfied: traitlets>=5.13.0 in /home/tiger/.local/lib/python3.11/site-packages (from IPython->-r requirements.txt (line 6)) (5.14.3)\n",
      "Requirement already satisfied: aiohappyeyeballs>=2.3.0 in /home/tiger/.local/lib/python3.11/site-packages (from aiohttp->datasets->-r requirements.txt (line 2)) (2.4.6)\n",
      "Requirement already satisfied: aiosignal>=1.1.2 in /home/tiger/.local/lib/python3.11/site-packages (from aiohttp->datasets->-r requirements.txt (line 2)) (1.3.2)\n",
      "Requirement already satisfied: attrs>=17.3.0 in /home/tiger/.local/lib/python3.11/site-packages (from aiohttp->datasets->-r requirements.txt (line 2)) (25.1.0)\n",
      "Requirement already satisfied: frozenlist>=1.1.1 in /home/tiger/.local/lib/python3.11/site-packages (from aiohttp->datasets->-r requirements.txt (line 2)) (1.5.0)\n",
      "Requirement already satisfied: multidict<7.0,>=4.5 in /home/tiger/.local/lib/python3.11/site-packages (from aiohttp->datasets->-r requirements.txt (line 2)) (6.1.0)\n",
      "Requirement already satisfied: propcache>=0.2.0 in /home/tiger/.local/lib/python3.11/site-packages (from aiohttp->datasets->-r requirements.txt (line 2)) (0.2.1)\n",
      "Requirement already satisfied: yarl<2.0,>=1.17.0 in /home/tiger/.local/lib/python3.11/site-packages (from aiohttp->datasets->-r requirements.txt (line 2)) (1.18.3)\n",
      "Requirement already satisfied: parso<0.9.0,>=0.8.4 in /home/tiger/.local/lib/python3.11/site-packages (from jedi>=0.16->IPython->-r requirements.txt (line 6)) (0.8.4)\n",
      "Requirement already satisfied: contourpy>=1.0.1 in /home/tiger/.local/lib/python3.11/site-packages (from matplotlib!=3.6.1,>=3.4->seaborn->-r requirements.txt (line 5)) (1.3.1)\n",
      "Requirement already satisfied: cycler>=0.10 in /home/tiger/.local/lib/python3.11/site-packages (from matplotlib!=3.6.1,>=3.4->seaborn->-r requirements.txt (line 5)) (0.12.1)\n",
      "Requirement already satisfied: fonttools>=4.22.0 in /home/tiger/.local/lib/python3.11/site-packages (from matplotlib!=3.6.1,>=3.4->seaborn->-r requirements.txt (line 5)) (4.56.0)\n",
      "Requirement already satisfied: kiwisolver>=1.3.1 in /home/tiger/.local/lib/python3.11/site-packages (from matplotlib!=3.6.1,>=3.4->seaborn->-r requirements.txt (line 5)) (1.4.8)\n",
      "Requirement already satisfied: pillow>=8 in /usr/local/lib/python3.11/dist-packages (from matplotlib!=3.6.1,>=3.4->seaborn->-r requirements.txt (line 5)) (10.2.0)\n",
      "Requirement already satisfied: pyparsing>=2.3.1 in /usr/lib/python3/dist-packages (from matplotlib!=3.6.1,>=3.4->seaborn->-r requirements.txt (line 5)) (3.0.9)\n",
      "Requirement already satisfied: python-dateutil>=2.7 in /home/tiger/.local/lib/python3.11/site-packages (from matplotlib!=3.6.1,>=3.4->seaborn->-r requirements.txt (line 5)) (2.9.0.post0)\n",
      "Requirement already satisfied: pytz>=2020.1 in /usr/local/lib/python3.11/dist-packages (from pandas->datasets->-r requirements.txt (line 2)) (2022.5)\n",
      "Requirement already satisfied: tzdata>=2022.7 in /home/tiger/.local/lib/python3.11/site-packages (from pandas->datasets->-r requirements.txt (line 2)) (2025.1)\n",
      "Requirement already satisfied: ptyprocess>=0.5 in /home/tiger/.local/lib/python3.11/site-packages (from pexpect>4.3->IPython->-r requirements.txt (line 6)) (0.7.0)\n",
      "Requirement already satisfied: wcwidth in /home/tiger/.local/lib/python3.11/site-packages (from prompt_toolkit<3.1.0,>=3.0.41->IPython->-r requirements.txt (line 6)) (0.2.13)\n",
      "Requirement already satisfied: charset-normalizer<4,>=2 in /usr/local/lib/python3.11/dist-packages (from requests>=2.32.2->datasets->-r requirements.txt (line 2)) (3.4.0)\n",
      "Requirement already satisfied: idna<4,>=2.5 in /usr/local/lib/python3.11/dist-packages (from requests>=2.32.2->datasets->-r requirements.txt (line 2)) (3.10)\n",
      "Requirement already satisfied: urllib3<3,>=1.21.1 in /usr/local/lib/python3.11/dist-packages (from requests>=2.32.2->datasets->-r requirements.txt (line 2)) (1.26.20)\n",
      "Requirement already satisfied: certifi>=2017.4.17 in /usr/local/lib/python3.11/dist-packages (from requests>=2.32.2->datasets->-r requirements.txt (line 2)) (2024.8.30)\n",
      "Requirement already satisfied: MarkupSafe>=2.0 in /usr/local/lib/python3.11/dist-packages (from jinja2->torch==2.5.1->-r requirements.txt (line 1)) (3.0.2)\n",
      "Requirement already satisfied: executing>=1.2.0 in /home/tiger/.local/lib/python3.11/site-packages (from stack_data->IPython->-r requirements.txt (line 6)) (2.2.0)\n",
      "Requirement already satisfied: asttokens>=2.1.0 in /home/tiger/.local/lib/python3.11/site-packages (from stack_data->IPython->-r requirements.txt (line 6)) (3.0.0)\n",
      "Requirement already satisfied: pure-eval in /home/tiger/.local/lib/python3.11/site-packages (from stack_data->IPython->-r requirements.txt (line 6)) (0.2.3)\n",
      "Requirement already satisfied: six>=1.5 in /usr/lib/python3/dist-packages (from python-dateutil>=2.7->matplotlib!=3.6.1,>=3.4->seaborn->-r requirements.txt (line 5)) (1.16.0)\n"
     ]
    }
   ],
   "source": [
    "! pip install -r requirements.txt"
   ]
  },
  {
   "cell_type": "markdown",
   "metadata": {},
   "source": [
    "## 1. The Performance of 3-layer 3-head GPT-2-like Transformers"
   ]
  },
  {
   "cell_type": "markdown",
   "metadata": {},
   "source": [
    "### 1.1 Training on FTCT with various causal depths and child chain lengths."
   ]
  },
  {
   "cell_type": "code",
   "execution_count": null,
   "metadata": {},
   "outputs": [],
   "source": [
    "! bash scripts/train_normal/train_d5.sh\n",
    "! bash scripts/train_normal/train_d8.sh\n",
    "! bash scripts/train_normal/train_d10.sh\n",
    "! bash scripts/train_normal/train_d13.sh\n",
    "! bash scripts/train_normal/train_d15.sh"
   ]
  },
  {
   "cell_type": "markdown",
   "metadata": {},
   "source": [
    "### 1.2 Plotting the Zero and Few-shot Testing Performance"
   ]
  },
  {
   "cell_type": "code",
   "execution_count": null,
   "metadata": {},
   "outputs": [],
   "source": [
    "! bash scripts/draw/draw_normal_main.sh"
   ]
  },
  {
   "cell_type": "code",
   "execution_count": null,
   "metadata": {},
   "outputs": [],
   "source": [
    "from IPython.display import Image\n",
    "Image(filename='fs_and_chain_len_normal.png') "
   ]
  },
  {
   "cell_type": "markdown",
   "metadata": {},
   "source": [
    "### 1.2 Plotting the Relationship between the Relative Knowledge Ratio and Model’s Performance"
   ]
  },
  {
   "cell_type": "code",
   "execution_count": null,
   "metadata": {},
   "outputs": [],
   "source": [
    "! bash scripts/draw/draw_normal_ratio.sh"
   ]
  },
  {
   "cell_type": "code",
   "execution_count": null,
   "metadata": {},
   "outputs": [],
   "source": [
    "Image(filename='ratio_normal.png') "
   ]
  },
  {
   "cell_type": "markdown",
   "metadata": {},
   "source": [
    "## 2. The Performance of Different Models"
   ]
  },
  {
   "cell_type": "markdown",
   "metadata": {},
   "source": [
    "### 2.1 Small Models"
   ]
  },
  {
   "cell_type": "code",
   "execution_count": null,
   "metadata": {},
   "outputs": [],
   "source": [
    "! bash scripts/train_simpler/train_small.sh\n",
    "! bash scripts/train_simpler/train_mlp.sh"
   ]
  },
  {
   "cell_type": "markdown",
   "metadata": {},
   "source": [
    "### 2.2 GPT2 Small"
   ]
  },
  {
   "cell_type": "code",
   "execution_count": null,
   "metadata": {},
   "outputs": [],
   "source": [
    "! bash scripts/train_gpts/train_d5.sh\n",
    "! bash scripts/train_gpts/train_d8.sh\n",
    "! bash scripts/train_gpts/train_d10.sh\n",
    "! bash scripts/train_gpts/train_d13.sh\n",
    "! bash scripts/train_gpts/train_d15.sh"
   ]
  },
  {
   "cell_type": "markdown",
   "metadata": {},
   "source": [
    "### 2.3 GPT2 Large"
   ]
  },
  {
   "cell_type": "code",
   "execution_count": null,
   "metadata": {},
   "outputs": [],
   "source": [
    "! bash scripts/train_gptl/train_d5.sh\n",
    "! bash scripts/train_gptl/train_d8.sh\n",
    "! bash scripts/train_gptl/train_d10.sh\n",
    "! bash scripts/train_gptl/train_d13.sh\n",
    "! bash scripts/train_gptl/train_d15.sh"
   ]
  },
  {
   "cell_type": "markdown",
   "metadata": {},
   "source": [
    "## 3. Attention Heatmap of Induction Head"
   ]
  },
  {
   "cell_type": "code",
   "execution_count": null,
   "metadata": {},
   "outputs": [],
   "source": [
    "! bash scripts/train_normal/plot_d13.sh"
   ]
  },
  {
   "cell_type": "code",
   "execution_count": null,
   "metadata": {},
   "outputs": [],
   "source": [
    "dir_path=\"data_and_models/len13_width2_merge0/maxchildlen6_cl1_cu7_cd7_vocab52_envaln10_chainvaln50_lkpn0.0_lkpv0.0_addlen5_nearlen100_tl4_shot5_icl5000_mk20000/type0/outs_gpt2/layer3_head3_hidden720\"\n",
    "mk_path = f\"{dir_path}/plot_mk_epoch-1\"\n",
    "mk_0 = f\"{mk_path}/check_layer0.png\"\n",
    "mk_1 = f\"{mk_path}/check_layer1.png\"\n",
    "Image(filename=mk_0)"
   ]
  },
  {
   "cell_type": "code",
   "execution_count": null,
   "metadata": {},
   "outputs": [],
   "source": [
    "Image(filename=mk_1)"
   ]
  },
  {
   "cell_type": "code",
   "execution_count": null,
   "metadata": {},
   "outputs": [],
   "source": [
    "test_path = f\"{dir_path}/plot_test_epoch-1\"\n",
    "test_0 = f\"{test_path}/check_layer0.png\"\n",
    "test_1 = f\"{test_path}/check_layer1.png\"\n",
    "Image(test_0)"
   ]
  },
  {
   "cell_type": "code",
   "execution_count": null,
   "metadata": {},
   "outputs": [],
   "source": [
    "Image(test_1)"
   ]
  },
  {
   "cell_type": "markdown",
   "metadata": {},
   "source": [
    "## 4. Probing to validate the Attention Assignment"
   ]
  },
  {
   "cell_type": "code",
   "execution_count": null,
   "metadata": {},
   "outputs": [],
   "source": [
    "! bash scripts/train_normal/probe_d5.sh\n",
    "! bash scripts/train_normal/probe_d10.sh\n",
    "! bash scripts/train_normal/probe_d15.sh"
   ]
  }
 ],
 "metadata": {
  "fileId": "192886a6-7757-40c3-9397-5e7cb9f3aab4",
  "filePath": "/mnt/bn/videonasi18n/yutong/Fragmented-at-Training-Chained-at-Testing/experiements.ipynb",
  "kernelspec": {
   "display_name": "Python 3 (ipykernel)",
   "language": "python",
   "name": "python3"
  },
  "language_info": {
   "codemirror_mode": {
    "name": "ipython",
    "version": 3
   },
   "file_extension": ".py",
   "mimetype": "text/x-python",
   "name": "python",
   "nbconvert_exporter": "python",
   "pygments_lexer": "ipython3",
   "version": "3.11.2"
  }
 },
 "nbformat": 4,
 "nbformat_minor": 2
}
